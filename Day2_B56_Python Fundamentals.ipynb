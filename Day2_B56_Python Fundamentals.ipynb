{
 "cells": [
  {
   "cell_type": "code",
   "execution_count": null,
   "id": "40e1add3",
   "metadata": {},
   "outputs": [],
   "source": [
    "Variables (Values) in Python:-"
   ]
  },
  {
   "cell_type": "code",
   "execution_count": null,
   "id": "c00b3951",
   "metadata": {},
   "outputs": [],
   "source": [
    "Rules of Variables Declaration:-\n",
    "    Rule - 1 No name spaces while declaring the variable name"
   ]
  },
  {
   "cell_type": "code",
   "execution_count": 1,
   "id": "43fb89f4",
   "metadata": {},
   "outputs": [
    {
     "ename": "SyntaxError",
     "evalue": "invalid syntax (3411396236.py, line 1)",
     "output_type": "error",
     "traceback": [
      "\u001b[0;36m  File \u001b[0;32m\"/var/folders/fx/pv7w880n57585qcy0dggp6p80000gn/T/ipykernel_3407/3411396236.py\"\u001b[0;36m, line \u001b[0;32m1\u001b[0m\n\u001b[0;31m    Ex: first name = 'Nihar'\u001b[0m\n\u001b[0m              ^\u001b[0m\n\u001b[0;31mSyntaxError\u001b[0m\u001b[0;31m:\u001b[0m invalid syntax\n"
     ]
    }
   ],
   "source": [
    "Ex: first name = 'Nihar'"
   ]
  },
  {
   "cell_type": "code",
   "execution_count": 3,
   "id": "1437e239",
   "metadata": {},
   "outputs": [
    {
     "name": "stdout",
     "output_type": "stream",
     "text": [
      "Nihar\n"
     ]
    }
   ],
   "source": [
    "firstname = 'Nihar'\n",
    "print(firstname)"
   ]
  },
  {
   "cell_type": "code",
   "execution_count": 4,
   "id": "113ed860",
   "metadata": {},
   "outputs": [
    {
     "name": "stdout",
     "output_type": "stream",
     "text": [
      "Nihar\n"
     ]
    }
   ],
   "source": [
    "first_name = 'Nihar'\n",
    "print(first_name)"
   ]
  },
  {
   "cell_type": "code",
   "execution_count": null,
   "id": "f424e5b7",
   "metadata": {},
   "outputs": [],
   "source": [
    "Rule - 2 Variable name should not start with a number.Its fine to put number in between or at end."
   ]
  },
  {
   "cell_type": "code",
   "execution_count": 5,
   "id": "3f5767ef",
   "metadata": {},
   "outputs": [
    {
     "ename": "SyntaxError",
     "evalue": "invalid syntax (3069999772.py, line 1)",
     "output_type": "error",
     "traceback": [
      "\u001b[0;36m  File \u001b[0;32m\"/var/folders/fx/pv7w880n57585qcy0dggp6p80000gn/T/ipykernel_3407/3069999772.py\"\u001b[0;36m, line \u001b[0;32m1\u001b[0m\n\u001b[0;31m    1name='Nihar'\u001b[0m\n\u001b[0m     ^\u001b[0m\n\u001b[0;31mSyntaxError\u001b[0m\u001b[0;31m:\u001b[0m invalid syntax\n"
     ]
    }
   ],
   "source": [
    "1name='Nihar'\n",
    "print'1name'"
   ]
  },
  {
   "cell_type": "code",
   "execution_count": 6,
   "id": "a38280d5",
   "metadata": {},
   "outputs": [
    {
     "name": "stdout",
     "output_type": "stream",
     "text": [
      "Nihar\n"
     ]
    }
   ],
   "source": [
    "name1='Nihar'\n",
    "print(name1)"
   ]
  },
  {
   "cell_type": "code",
   "execution_count": null,
   "id": "292430a1",
   "metadata": {},
   "outputs": [],
   "source": [
    "Rule - 3 A Variable name should not contain any special characters in it i.e @$%&* etc."
   ]
  },
  {
   "cell_type": "code",
   "execution_count": 7,
   "id": "5dc8ce06",
   "metadata": {},
   "outputs": [
    {
     "ename": "SyntaxError",
     "evalue": "invalid syntax (1954644642.py, line 2)",
     "output_type": "error",
     "traceback": [
      "\u001b[0;36m  File \u001b[0;32m\"/var/folders/fx/pv7w880n57585qcy0dggp6p80000gn/T/ipykernel_3407/1954644642.py\"\u001b[0;36m, line \u001b[0;32m2\u001b[0m\n\u001b[0;31m    print(name@)\u001b[0m\n\u001b[0m               ^\u001b[0m\n\u001b[0;31mSyntaxError\u001b[0m\u001b[0;31m:\u001b[0m invalid syntax\n"
     ]
    }
   ],
   "source": [
    "name@='Nihar'\n",
    "print(name@)"
   ]
  },
  {
   "cell_type": "code",
   "execution_count": 8,
   "id": "d9ecda78",
   "metadata": {},
   "outputs": [
    {
     "ename": "SyntaxError",
     "evalue": "invalid syntax (243622039.py, line 1)",
     "output_type": "error",
     "traceback": [
      "\u001b[0;36m  File \u001b[0;32m\"/var/folders/fx/pv7w880n57585qcy0dggp6p80000gn/T/ipykernel_3407/243622039.py\"\u001b[0;36m, line \u001b[0;32m1\u001b[0m\n\u001b[0;31m    commenting the line in Python should be done with prefix#.\u001b[0m\n\u001b[0m               ^\u001b[0m\n\u001b[0;31mSyntaxError\u001b[0m\u001b[0;31m:\u001b[0m invalid syntax\n"
     ]
    }
   ],
   "source": [
    "commenting the line in Python should be done with prefix#."
   ]
  },
  {
   "cell_type": "code",
   "execution_count": 9,
   "id": "a8917492",
   "metadata": {},
   "outputs": [],
   "source": [
    "#its a comment"
   ]
  },
  {
   "cell_type": "code",
   "execution_count": null,
   "id": "0fe85106",
   "metadata": {},
   "outputs": [],
   "source": [
    "Data Types in Python :- \n",
    "    5 Types are there\n",
    "    1. String\n",
    "    2. Number (innteger & floats aka decimals)\n",
    "    3. List\n",
    "    4. Tuple\n",
    "    5. Dictionaries"
   ]
  },
  {
   "cell_type": "code",
   "execution_count": null,
   "id": "f09c6aca",
   "metadata": {},
   "outputs": [],
   "source": [
    "Data broadly classified into two categories:- \n",
    "    1. Mutable Data Type - which is Flexible which can alter & edit\n",
    "    2. Immutable Data Type - Which is Fixed one which cannot able to alter."
   ]
  },
  {
   "cell_type": "code",
   "execution_count": null,
   "id": "c3b2dab8",
   "metadata": {},
   "outputs": [],
   "source": [
    "STRING DATA:-\n",
    "It is a seried of characters declared in quotes, which is a immutable type.\n",
    "It can be declared in 3 ways:-\n",
    "a) Single Quote ('')\n",
    "b) Double Quote(\"\")\n",
    "c) Triple Quote(\"\"\"\"\"\")"
   ]
  },
  {
   "cell_type": "code",
   "execution_count": 10,
   "id": "5e6b162c",
   "metadata": {},
   "outputs": [
    {
     "name": "stdout",
     "output_type": "stream",
     "text": [
      "Nihar\n"
     ]
    }
   ],
   "source": [
    "name='Nihar'\n",
    "print(name)"
   ]
  },
  {
   "cell_type": "code",
   "execution_count": 11,
   "id": "8617dffc",
   "metadata": {},
   "outputs": [
    {
     "name": "stdout",
     "output_type": "stream",
     "text": [
      "Sachin\n"
     ]
    }
   ],
   "source": [
    "name=\"Sachin\"\n",
    "print(name)"
   ]
  },
  {
   "cell_type": "code",
   "execution_count": 12,
   "id": "a3e4a9b2",
   "metadata": {},
   "outputs": [
    {
     "name": "stdout",
     "output_type": "stream",
     "text": [
      "Faiyaz\n"
     ]
    }
   ],
   "source": [
    "name=\"\"\"Faiyaz\"\"\"\n",
    "print(name)"
   ]
  },
  {
   "cell_type": "code",
   "execution_count": null,
   "id": "2ed23cf0",
   "metadata": {},
   "outputs": [],
   "source": []
  }
 ],
 "metadata": {
  "kernelspec": {
   "display_name": "Python 3 (ipykernel)",
   "language": "python",
   "name": "python3"
  },
  "language_info": {
   "codemirror_mode": {
    "name": "ipython",
    "version": 3
   },
   "file_extension": ".py",
   "mimetype": "text/x-python",
   "name": "python",
   "nbconvert_exporter": "python",
   "pygments_lexer": "ipython3",
   "version": "3.9.7"
  }
 },
 "nbformat": 4,
 "nbformat_minor": 5
}
