{
 "cells": [
  {
   "cell_type": "code",
   "execution_count": null,
   "id": "6a15bb4c",
   "metadata": {},
   "outputs": [],
   "source": [
    "Introduction to List datatype:-\n",
    "    List is a collection of items defined in a particular order, which is classified under mutable type.\n",
    "    List data declared with square bracket []."
   ]
  },
  {
   "cell_type": "code",
   "execution_count": null,
   "id": "267b9771",
   "metadata": {},
   "outputs": [],
   "source": [
    "Indexing:- Each componenet is list datatype have index number starting with 0,1,2,------n"
   ]
  },
  {
   "cell_type": "code",
   "execution_count": 1,
   "id": "ee651ad5",
   "metadata": {},
   "outputs": [],
   "source": [
    "students = ['simran', 'tasleem', 'nihar', 'ravi', 'kumar', 'abdul']"
   ]
  },
  {
   "cell_type": "code",
   "execution_count": 2,
   "id": "eb1c78ce",
   "metadata": {},
   "outputs": [
    {
     "name": "stdout",
     "output_type": "stream",
     "text": [
      "['simran', 'tasleem', 'nihar', 'ravi', 'kumar', 'abdul']\n"
     ]
    }
   ],
   "source": [
    "print(students)"
   ]
  },
  {
   "cell_type": "code",
   "execution_count": null,
   "id": "78b08696",
   "metadata": {},
   "outputs": [],
   "source": [
    "above list have following index value 0,1,2,3,4&5."
   ]
  },
  {
   "cell_type": "code",
   "execution_count": null,
   "id": "97c4c741",
   "metadata": {},
   "outputs": [],
   "source": [
    "#access the specific element from the list"
   ]
  },
  {
   "cell_type": "code",
   "execution_count": null,
   "id": "6f5a6c32",
   "metadata": {},
   "outputs": [],
   "source": [
    "ex. access ravi from list"
   ]
  },
  {
   "cell_type": "code",
   "execution_count": 3,
   "id": "6b6aa29c",
   "metadata": {},
   "outputs": [
    {
     "name": "stdout",
     "output_type": "stream",
     "text": [
      "ravi\n"
     ]
    }
   ],
   "source": [
    "print(students[3])"
   ]
  },
  {
   "cell_type": "code",
   "execution_count": null,
   "id": "5d048a55",
   "metadata": {},
   "outputs": [],
   "source": [
    "want to access ravi in title format"
   ]
  },
  {
   "cell_type": "code",
   "execution_count": 4,
   "id": "b6c090cb",
   "metadata": {},
   "outputs": [
    {
     "name": "stdout",
     "output_type": "stream",
     "text": [
      "Ravi\n"
     ]
    }
   ],
   "source": [
    "print(students[3].title())"
   ]
  },
  {
   "cell_type": "code",
   "execution_count": null,
   "id": "c8f41c29",
   "metadata": {},
   "outputs": [],
   "source": [
    "#add element to above students list"
   ]
  },
  {
   "cell_type": "code",
   "execution_count": null,
   "id": "9b785ae4",
   "metadata": {},
   "outputs": [],
   "source": [
    "ex. add shradha to the list"
   ]
  },
  {
   "cell_type": "code",
   "execution_count": 5,
   "id": "c166a390",
   "metadata": {},
   "outputs": [],
   "source": [
    "students.append('shradha')"
   ]
  },
  {
   "cell_type": "code",
   "execution_count": 6,
   "id": "b582ad47",
   "metadata": {},
   "outputs": [
    {
     "name": "stdout",
     "output_type": "stream",
     "text": [
      "['simran', 'tasleem', 'nihar', 'ravi', 'kumar', 'abdul', 'shradha']\n"
     ]
    }
   ],
   "source": [
    "print(students)"
   ]
  },
  {
   "cell_type": "code",
   "execution_count": null,
   "id": "2a51667c",
   "metadata": {},
   "outputs": [],
   "source": [
    "the newly added element will be added at the last place of the list. If we want to add at specific position use insert approach as below:-"
   ]
  },
  {
   "cell_type": "code",
   "execution_count": null,
   "id": "d800c1f3",
   "metadata": {},
   "outputs": [],
   "source": [
    "ex- add hamed to the second position."
   ]
  },
  {
   "cell_type": "code",
   "execution_count": 7,
   "id": "cdede23c",
   "metadata": {},
   "outputs": [],
   "source": [
    "students.insert(2,'hamed')"
   ]
  },
  {
   "cell_type": "code",
   "execution_count": 8,
   "id": "af6bde6c",
   "metadata": {},
   "outputs": [
    {
     "name": "stdout",
     "output_type": "stream",
     "text": [
      "['simran', 'tasleem', 'hamed', 'nihar', 'ravi', 'kumar', 'abdul', 'shradha']\n"
     ]
    }
   ],
   "source": [
    "print(students)"
   ]
  },
  {
   "cell_type": "code",
   "execution_count": null,
   "id": "63534ac2",
   "metadata": {},
   "outputs": [],
   "source": [
    "#modify element from the list"
   ]
  },
  {
   "cell_type": "code",
   "execution_count": null,
   "id": "002c5df8",
   "metadata": {},
   "outputs": [],
   "source": [
    "replace prasad inplace of ravi"
   ]
  },
  {
   "cell_type": "code",
   "execution_count": 9,
   "id": "86c58db2",
   "metadata": {},
   "outputs": [
    {
     "name": "stdout",
     "output_type": "stream",
     "text": [
      "ravi\n"
     ]
    }
   ],
   "source": [
    "print(students[4])"
   ]
  },
  {
   "cell_type": "code",
   "execution_count": 10,
   "id": "80a2872d",
   "metadata": {},
   "outputs": [],
   "source": [
    "students[4]='prasad'"
   ]
  },
  {
   "cell_type": "code",
   "execution_count": 11,
   "id": "46389e41",
   "metadata": {},
   "outputs": [
    {
     "name": "stdout",
     "output_type": "stream",
     "text": [
      "['simran', 'tasleem', 'hamed', 'nihar', 'prasad', 'kumar', 'abdul', 'shradha']\n"
     ]
    }
   ],
   "source": [
    "print(students)"
   ]
  },
  {
   "cell_type": "code",
   "execution_count": 12,
   "id": "06422587",
   "metadata": {},
   "outputs": [
    {
     "name": "stdout",
     "output_type": "stream",
     "text": [
      "prasad\n"
     ]
    }
   ],
   "source": [
    "print (students[4])"
   ]
  },
  {
   "cell_type": "code",
   "execution_count": null,
   "id": "3ebfe1f7",
   "metadata": {},
   "outputs": [],
   "source": [
    "#how to delete element from the list"
   ]
  },
  {
   "cell_type": "code",
   "execution_count": null,
   "id": "6d486fd5",
   "metadata": {},
   "outputs": [],
   "source": [
    "delete hamed from above list"
   ]
  },
  {
   "cell_type": "code",
   "execution_count": 13,
   "id": "722f1e35",
   "metadata": {},
   "outputs": [
    {
     "name": "stdout",
     "output_type": "stream",
     "text": [
      "hamed\n"
     ]
    }
   ],
   "source": [
    "print(students[2])"
   ]
  },
  {
   "cell_type": "code",
   "execution_count": 14,
   "id": "fcd26a89",
   "metadata": {},
   "outputs": [],
   "source": [
    "del students[2]"
   ]
  },
  {
   "cell_type": "code",
   "execution_count": 15,
   "id": "ceef0d41",
   "metadata": {},
   "outputs": [
    {
     "name": "stdout",
     "output_type": "stream",
     "text": [
      "['simran', 'tasleem', 'nihar', 'prasad', 'kumar', 'abdul', 'shradha']\n"
     ]
    }
   ],
   "source": [
    "print(students)"
   ]
  },
  {
   "cell_type": "code",
   "execution_count": null,
   "id": "ed596298",
   "metadata": {},
   "outputs": [],
   "source": []
  }
 ],
 "metadata": {
  "kernelspec": {
   "display_name": "Python 3 (ipykernel)",
   "language": "python",
   "name": "python3"
  },
  "language_info": {
   "codemirror_mode": {
    "name": "ipython",
    "version": 3
   },
   "file_extension": ".py",
   "mimetype": "text/x-python",
   "name": "python",
   "nbconvert_exporter": "python",
   "pygments_lexer": "ipython3",
   "version": "3.9.7"
  }
 },
 "nbformat": 4,
 "nbformat_minor": 5
}
