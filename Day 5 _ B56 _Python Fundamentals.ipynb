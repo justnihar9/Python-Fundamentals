{
 "cells": [
  {
   "cell_type": "code",
   "execution_count": null,
   "id": "94a224f4",
   "metadata": {},
   "outputs": [],
   "source": [
    "Organizing list Datatypes:-"
   ]
  },
  {
   "cell_type": "code",
   "execution_count": 1,
   "id": "29cba1e4",
   "metadata": {},
   "outputs": [],
   "source": [
    "cars = ['benz', 'audi', 'bmw', 'tesla', 'ciaz', 'toyota', 'maruthi']"
   ]
  },
  {
   "cell_type": "code",
   "execution_count": 2,
   "id": "2da5054e",
   "metadata": {},
   "outputs": [
    {
     "name": "stdout",
     "output_type": "stream",
     "text": [
      "['benz', 'audi', 'bmw', 'tesla', 'ciaz', 'toyota', 'maruthi']\n"
     ]
    }
   ],
   "source": [
    "print(cars)"
   ]
  },
  {
   "cell_type": "code",
   "execution_count": 3,
   "id": "fe09b859",
   "metadata": {},
   "outputs": [
    {
     "data": {
      "text/plain": [
       "list"
      ]
     },
     "execution_count": 3,
     "metadata": {},
     "output_type": "execute_result"
    }
   ],
   "source": [
    "type(cars)"
   ]
  },
  {
   "cell_type": "code",
   "execution_count": null,
   "id": "0f7c8c98",
   "metadata": {},
   "outputs": [],
   "source": [
    "arrange above list in alphabetical order\n",
    "a. temporary approach -- sorted -- we can get original order\n",
    "b. permanent approach -- sort -- changes applied permanently"
   ]
  },
  {
   "cell_type": "code",
   "execution_count": 4,
   "id": "3f7454ee",
   "metadata": {},
   "outputs": [
    {
     "name": "stdout",
     "output_type": "stream",
     "text": [
      "['audi', 'benz', 'bmw', 'ciaz', 'maruthi', 'tesla', 'toyota']\n"
     ]
    }
   ],
   "source": [
    "print(sorted(cars))"
   ]
  },
  {
   "cell_type": "code",
   "execution_count": null,
   "id": "e774316a",
   "metadata": {},
   "outputs": [],
   "source": [
    "its arranged in alphabetical order. since we used temp approach it can get original order again like below:-"
   ]
  },
  {
   "cell_type": "code",
   "execution_count": 5,
   "id": "87268d7b",
   "metadata": {},
   "outputs": [
    {
     "name": "stdout",
     "output_type": "stream",
     "text": [
      "['benz', 'audi', 'bmw', 'tesla', 'ciaz', 'toyota', 'maruthi']\n"
     ]
    }
   ],
   "source": [
    "print(cars)"
   ]
  },
  {
   "cell_type": "code",
   "execution_count": 6,
   "id": "a0fe0c62",
   "metadata": {},
   "outputs": [],
   "source": [
    "cars.sort()"
   ]
  },
  {
   "cell_type": "code",
   "execution_count": 7,
   "id": "62ff5510",
   "metadata": {},
   "outputs": [
    {
     "name": "stdout",
     "output_type": "stream",
     "text": [
      "['audi', 'benz', 'bmw', 'ciaz', 'maruthi', 'tesla', 'toyota']\n"
     ]
    }
   ],
   "source": [
    "print(cars)"
   ]
  },
  {
   "cell_type": "code",
   "execution_count": null,
   "id": "51c5bbdf",
   "metadata": {},
   "outputs": [],
   "source": [
    "since we used permanent approach the sequence is fixed now it wont change to initial car list sequence."
   ]
  },
  {
   "cell_type": "code",
   "execution_count": 8,
   "id": "455386b6",
   "metadata": {},
   "outputs": [
    {
     "name": "stdout",
     "output_type": "stream",
     "text": [
      "['audi', 'benz', 'bmw', 'ciaz', 'maruthi', 'tesla', 'toyota']\n"
     ]
    }
   ],
   "source": [
    "print(cars)"
   ]
  },
  {
   "cell_type": "code",
   "execution_count": null,
   "id": "e2e79263",
   "metadata": {},
   "outputs": [],
   "source": [
    "if i want to print the above cars order in reverse:- "
   ]
  },
  {
   "cell_type": "code",
   "execution_count": 9,
   "id": "b214747e",
   "metadata": {},
   "outputs": [],
   "source": [
    "cars.reverse()"
   ]
  },
  {
   "cell_type": "code",
   "execution_count": 10,
   "id": "2c0883c1",
   "metadata": {},
   "outputs": [
    {
     "name": "stdout",
     "output_type": "stream",
     "text": [
      "['toyota', 'tesla', 'maruthi', 'ciaz', 'bmw', 'benz', 'audi']\n"
     ]
    }
   ],
   "source": [
    "print(cars)"
   ]
  },
  {
   "cell_type": "code",
   "execution_count": null,
   "id": "c9c539dd",
   "metadata": {},
   "outputs": [],
   "source": [
    "want to know of no. of elements/count in the list"
   ]
  },
  {
   "cell_type": "code",
   "execution_count": 11,
   "id": "f1a1bdb6",
   "metadata": {},
   "outputs": [
    {
     "data": {
      "text/plain": [
       "7"
      ]
     },
     "execution_count": 11,
     "metadata": {},
     "output_type": "execute_result"
    }
   ],
   "source": [
    "len(cars)"
   ]
  },
  {
   "cell_type": "code",
   "execution_count": null,
   "id": "4813d13b",
   "metadata": {},
   "outputs": [],
   "source": [
    "Introduction to Slicing of Lists - Slicing means cut into pieces.\n",
    "General syntax of Slicing:-\n",
    "    [startvalue:stopvalue:stepcount]\n",
    "    stopvalue is always exclusive & will not be considered in slice, stopvalue can be added with increment of +1 with current index value"
   ]
  },
  {
   "cell_type": "code",
   "execution_count": 12,
   "id": "276ca02b",
   "metadata": {},
   "outputs": [],
   "source": [
    "students = ['kiran', 'rinta', 'karanveer','shradha', 'guruprasad', 'srinivas' , 'bilal', 'arbaz']"
   ]
  },
  {
   "cell_type": "code",
   "execution_count": 13,
   "id": "a6d5c71e",
   "metadata": {},
   "outputs": [
    {
     "name": "stdout",
     "output_type": "stream",
     "text": [
      "['kiran', 'rinta', 'karanveer', 'shradha', 'guruprasad', 'srinivas', 'bilal', 'arbaz']\n"
     ]
    }
   ],
   "source": [
    "print(students)"
   ]
  },
  {
   "cell_type": "code",
   "execution_count": null,
   "id": "ffbc20a3",
   "metadata": {},
   "outputs": [],
   "source": [
    "index value of above students are 0,1,2,3,4,5,6,7 respectively"
   ]
  },
  {
   "cell_type": "code",
   "execution_count": null,
   "id": "8945d9e2",
   "metadata": {},
   "outputs": [],
   "source": [
    "now want to get kiran & rinta in the slice"
   ]
  },
  {
   "cell_type": "code",
   "execution_count": 14,
   "id": "da70e0d9",
   "metadata": {},
   "outputs": [
    {
     "ename": "NameError",
     "evalue": "name 'student' is not defined",
     "output_type": "error",
     "traceback": [
      "\u001b[0;31m---------------------------------------------------------------------------\u001b[0m",
      "\u001b[0;31mNameError\u001b[0m                                 Traceback (most recent call last)",
      "\u001b[0;32m/var/folders/fx/pv7w880n57585qcy0dggp6p80000gn/T/ipykernel_2289/3385960962.py\u001b[0m in \u001b[0;36m<module>\u001b[0;34m\u001b[0m\n\u001b[0;32m----> 1\u001b[0;31m \u001b[0mprint\u001b[0m\u001b[0;34m(\u001b[0m\u001b[0mstudent\u001b[0m\u001b[0;34m[\u001b[0m\u001b[0;36m0\u001b[0m\u001b[0;34m:\u001b[0m\u001b[0;36m1\u001b[0m\u001b[0;34m]\u001b[0m\u001b[0;34m)\u001b[0m\u001b[0;34m\u001b[0m\u001b[0;34m\u001b[0m\u001b[0m\n\u001b[0m",
      "\u001b[0;31mNameError\u001b[0m: name 'student' is not defined"
     ]
    }
   ],
   "source": [
    "print(student[0:1])"
   ]
  },
  {
   "cell_type": "code",
   "execution_count": 15,
   "id": "e6f9eefc",
   "metadata": {},
   "outputs": [
    {
     "name": "stdout",
     "output_type": "stream",
     "text": [
      "['kiran']\n"
     ]
    }
   ],
   "source": [
    "print(students[0:1])"
   ]
  },
  {
   "cell_type": "code",
   "execution_count": null,
   "id": "84501ff4",
   "metadata": {},
   "outputs": [],
   "source": [
    "here only got Kiran because need to add stopvalue with increment of +1."
   ]
  },
  {
   "cell_type": "code",
   "execution_count": 16,
   "id": "eb6f9f5a",
   "metadata": {},
   "outputs": [
    {
     "name": "stdout",
     "output_type": "stream",
     "text": [
      "['kiran', 'rinta']\n"
     ]
    }
   ],
   "source": [
    "print(students[0:2])"
   ]
  },
  {
   "cell_type": "code",
   "execution_count": null,
   "id": "4d4b1cd2",
   "metadata": {},
   "outputs": [],
   "source": [
    "now want to get karanveer & shradha in the slice"
   ]
  },
  {
   "cell_type": "code",
   "execution_count": 17,
   "id": "017a9dcf",
   "metadata": {},
   "outputs": [
    {
     "name": "stdout",
     "output_type": "stream",
     "text": [
      "['karanveer', 'shradha']\n"
     ]
    }
   ],
   "source": [
    "print(students[2:4])"
   ]
  },
  {
   "cell_type": "code",
   "execution_count": 18,
   "id": "9c8cca8c",
   "metadata": {},
   "outputs": [
    {
     "name": "stdout",
     "output_type": "stream",
     "text": [
      "['guruprasad', 'srinivas']\n"
     ]
    }
   ],
   "source": [
    "print(students[4:6])"
   ]
  },
  {
   "cell_type": "code",
   "execution_count": 19,
   "id": "51379f49",
   "metadata": {},
   "outputs": [
    {
     "name": "stdout",
     "output_type": "stream",
     "text": [
      "['kiran', 'rinta', 'karanveer', 'shradha', 'guruprasad', 'srinivas', 'bilal', 'arbaz']\n"
     ]
    }
   ],
   "source": [
    "print(students)"
   ]
  },
  {
   "cell_type": "code",
   "execution_count": null,
   "id": "1870b61d",
   "metadata": {},
   "outputs": [],
   "source": [
    "want kiran, karanveer, guruprasad & bilal in the slice"
   ]
  },
  {
   "cell_type": "code",
   "execution_count": 20,
   "id": "e7b8a8f5",
   "metadata": {},
   "outputs": [
    {
     "name": "stdout",
     "output_type": "stream",
     "text": [
      "['kiran', 'karanveer', 'guruprasad', 'bilal']\n"
     ]
    }
   ],
   "source": [
    "print(students[0:8:2])"
   ]
  },
  {
   "cell_type": "code",
   "execution_count": null,
   "id": "c1c66826",
   "metadata": {},
   "outputs": [],
   "source": [
    "here 0 - startvalue , 8 - stopvalue & 2 - stepcount"
   ]
  },
  {
   "cell_type": "code",
   "execution_count": null,
   "id": "19560b4a",
   "metadata": {},
   "outputs": [],
   "source": [
    "want rinta, shradha, srinivas & arbaz in the slice"
   ]
  },
  {
   "cell_type": "code",
   "execution_count": 21,
   "id": "a4cfc318",
   "metadata": {},
   "outputs": [
    {
     "name": "stdout",
     "output_type": "stream",
     "text": [
      "['rinta', 'shradha', 'srinivas', 'arbaz']\n"
     ]
    }
   ],
   "source": [
    "print (students[1:8:2])"
   ]
  },
  {
   "cell_type": "code",
   "execution_count": null,
   "id": "aa2bad1c",
   "metadata": {},
   "outputs": [],
   "source": [
    "want kiran, shradha & arbaz in the slice"
   ]
  },
  {
   "cell_type": "code",
   "execution_count": 22,
   "id": "6b7e1cd8",
   "metadata": {},
   "outputs": [
    {
     "name": "stdout",
     "output_type": "stream",
     "text": [
      "['kiran', 'shradha', 'bilal']\n"
     ]
    }
   ],
   "source": [
    "print (students[0:8:3])"
   ]
  },
  {
   "cell_type": "code",
   "execution_count": null,
   "id": "c5069697",
   "metadata": {},
   "outputs": [],
   "source": []
  }
 ],
 "metadata": {
  "kernelspec": {
   "display_name": "Python 3 (ipykernel)",
   "language": "python",
   "name": "python3"
  },
  "language_info": {
   "codemirror_mode": {
    "name": "ipython",
    "version": 3
   },
   "file_extension": ".py",
   "mimetype": "text/x-python",
   "name": "python",
   "nbconvert_exporter": "python",
   "pygments_lexer": "ipython3",
   "version": "3.9.7"
  }
 },
 "nbformat": 4,
 "nbformat_minor": 5
}
